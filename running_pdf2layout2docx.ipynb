{
  "cells": [
    {
      "cell_type": "code",
      "execution_count": null,
      "metadata": {
        "id": "euntUIUkqE_B"
      },
      "outputs": [],
      "source": [
        "!pip install pymupdf python-docx azure-ai-formrecognizer\n"
      ]
    },
    {
      "cell_type": "code",
      "execution_count": null,
      "metadata": {
        "id": "ihEGyXyTvNuq"
      },
      "outputs": [],
      "source": [
        "!git clone https://github.com/williamli-15/pdf2layout2docx.git\n",
        "%cd pdf2layout2docx"
      ]
    },
    {
      "cell_type": "markdown",
      "metadata": {
        "id": "kvVu4ETr2B0B"
      },
      "source": [
        "**Create a folder named docs in the project directory**"
      ]
    },
    {
      "cell_type": "code",
      "execution_count": 26,
      "metadata": {
        "id": "TruYN8CutW_r"
      },
      "outputs": [],
      "source": [
        "!mkdir -p docs"
      ]
    },
    {
      "cell_type": "markdown",
      "metadata": {
        "id": "c7Rpju4r2GYi"
      },
      "source": [
        "**and place your PDF files in it.**"
      ]
    },
    {
      "cell_type": "code",
      "execution_count": null,
      "metadata": {
        "id": "3EEz7VT0zZpQ"
      },
      "outputs": [],
      "source": [
        "import os\n",
        "\n",
        "# Set Azure Form Recognizer endpoint URL and API key\n",
        "os.environ[\"AZ_ENDPOINT\"] = \"https://your-cognitiveservices-endpoint-url/\"\n",
        "os.environ[\"AZ_KEY\"] = \"your-form-recognizer-api-key\""
      ]
    },
    {
      "cell_type": "code",
      "execution_count": null,
      "metadata": {
        "id": "krOiL0b2zRP2"
      },
      "outputs": [],
      "source": [
        "# Obtain JSON files from PDFs\n",
        "!python obtain_json.py ./docs"
      ]
    },
    {
      "cell_type": "code",
      "execution_count": 17,
      "metadata": {
        "colab": {
          "base_uri": "https://localhost:8080/"
        },
        "id": "uXpa5syPs9Yw",
        "outputId": "d2dba66f-95a3-4e36-f215-045ee5db0865"
      },
      "outputs": [
        {
          "name": "stdout",
          "output_type": "stream",
          "text": [
            "/content/pdf2layout2docx/docs/CA Infrastructure Fin.pdf\n",
            "done!\n"
          ]
        }
      ],
      "source": [
        "# Process JSON files\n",
        "!python processing_json.py ./docs"
      ]
    },
    {
      "cell_type": "markdown",
      "metadata": {
        "id": "xz9hJV3w2Sb0"
      },
      "source": [
        "Convert a single PDF file, replacing file_name with the base name of your PDF file (without the extension)\n",
        "\n",
        "Using 0 and 1 as the start_page and end_page arguments would convert only the first page.\n",
        "\n",
        "Using 0 and 2 would convert the first and second pages."
      ]
    },
    {
      "cell_type": "code",
      "execution_count": null,
      "metadata": {
        "id": "wIvI3Ozh0ziS"
      },
      "outputs": [],
      "source": [
        "file_name = 'CA Infrastructure Fin'  # Replace this with the base name of your PDF file\n",
        "pdf_path = f'./docs/{file_name}.pdf'\n",
        "out_path = f'./docs/{file_name}.docx'\n",
        "json_path = f'./docs/updated_{file_name}.json'\n",
        "start_page = 0\n",
        "end_page = 2\n",
        "\n",
        "!python convert_main.py $pdf_path $out_path $json_path $start_page $end_page\n"
      ]
    },
    {
      "cell_type": "markdown",
      "metadata": {
        "id": "GGQgf6jp2NfZ"
      },
      "source": [
        "Convert all PDF files in the docs folder"
      ]
    },
    {
      "cell_type": "code",
      "execution_count": null,
      "metadata": {
        "id": "i4q1dEQv1iUX"
      },
      "outputs": [],
      "source": [
        "import os\n",
        "import json\n",
        "\n",
        "# Define the path to the docs folder\n",
        "docs_folder = \"./docs\"\n",
        "\n",
        "# Function to get PDF and JSON file pairs in the specified directory\n",
        "def get_file_pairs(directory):\n",
        "    file_pairs = []\n",
        "    for file_name in os.listdir(directory):\n",
        "        if file_name.endswith(\".pdf\"):\n",
        "            pdf_path = os.path.join(directory, file_name)\n",
        "            json_name = f\"updated_{os.path.splitext(file_name)[0]}.json\"\n",
        "            json_path = os.path.join(directory, json_name)\n",
        "            if os.path.exists(json_path):  # Check if corresponding JSON file exists\n",
        "                file_pairs.append((pdf_path, json_path))\n",
        "    return file_pairs\n",
        "\n",
        "# Function to extract end page number from JSON\n",
        "def extract_end_page_number(json_path):\n",
        "    with open(json_path, \"r\") as file:\n",
        "        data = json.load(file)\n",
        "    end_page_number = max(page[\"page_number\"] for page in data[\"pages\"])\n",
        "    return end_page_number\n",
        "\n",
        "# Get PDF and JSON file pairs in the docs folder\n",
        "file_pairs = get_file_pairs(docs_folder)\n",
        "\n",
        "# Iterate over the file pairs and perform conversion\n",
        "for pdf_path, json_path in file_pairs:\n",
        "    base_name = os.path.splitext(os.path.basename(pdf_path))[0]\n",
        "    out_path = os.path.join(docs_folder, f\"{base_name}.docx\")\n",
        "\n",
        "    # Extract the end page number\n",
        "    end_page = extract_end_page_number(json_path)\n",
        "\n",
        "    # Set the start page to 0 (assuming it always starts from the first page)\n",
        "    start_page = 0\n",
        "\n",
        "    # Run the conversion script with the specified parameters\n",
        "    !python convert_main.py $pdf_path $out_path $json_path $start_page $end_page\n"
      ]
    }
  ],
  "metadata": {
    "colab": {
      "provenance": []
    },
    "kernelspec": {
      "display_name": "Python 3",
      "name": "python3"
    },
    "language_info": {
      "name": "python"
    }
  },
  "nbformat": 4,
  "nbformat_minor": 0
}
