{
  "nbformat": 4,
  "nbformat_minor": 0,
  "metadata": {
    "colab": {
      "provenance": []
    },
    "kernelspec": {
      "name": "python3",
      "display_name": "Python 3"
    },
    "language_info": {
      "name": "python"
    }
  },
  "cells": [
    {
      "cell_type": "code",
      "source": [
        "!pip install pymupdf python-docx azure-ai-formrecognizer\n"
      ],
      "metadata": {
        "id": "euntUIUkqE_B"
      },
      "execution_count": null,
      "outputs": []
    },
    {
      "cell_type": "code",
      "source": [
        "!git clone https://github.com/williamli-15/pdf2layout2docx.git\n",
        "%cd pdf2layout2docx"
      ],
      "metadata": {
        "colab": {
          "base_uri": "https://localhost:8080/"
        },
        "id": "ihEGyXyTvNuq",
        "outputId": "98b53419-db00-42e1-947c-c802d436ae9e"
      },
      "execution_count": 2,
      "outputs": [
        {
          "output_type": "stream",
          "name": "stdout",
          "text": [
            "Cloning into 'pdf2layout2docx'...\n",
            "remote: Enumerating objects: 289, done.\u001b[K\n",
            "remote: Counting objects: 100% (289/289), done.\u001b[K\n",
            "remote: Compressing objects: 100% (256/256), done.\u001b[K\n",
            "remote: Total 289 (delta 32), reused 289 (delta 32), pack-reused 0\u001b[K\n",
            "Receiving objects: 100% (289/289), 791.51 KiB | 10.02 MiB/s, done.\n",
            "Resolving deltas: 100% (32/32), done.\n",
            "/content/pdf2layout2docx\n"
          ]
        }
      ]
    },
    {
      "cell_type": "markdown",
      "source": [
        "**Create a folder named docs in the project directory**"
      ],
      "metadata": {
        "id": "kvVu4ETr2B0B"
      }
    },
    {
      "cell_type": "code",
      "source": [
        "!mkdir -p docs"
      ],
      "metadata": {
        "id": "TruYN8CutW_r"
      },
      "execution_count": 15,
      "outputs": []
    },
    {
      "cell_type": "markdown",
      "source": [
        "**and place your PDF files in it.**"
      ],
      "metadata": {
        "id": "c7Rpju4r2GYi"
      }
    },
    {
      "cell_type": "code",
      "source": [
        "import os\n",
        "\n",
        "# Set Azure Form Recognizer endpoint URL and API key\n",
        "os.environ[\"AZ_ENDPOINT\"] = \"https://your-form-recognizer-endpoint-url/\"\n",
        "os.environ[\"AZ_KEY\"] = \"your-form-recognizer-api-key\"\n"
      ],
      "metadata": {
        "id": "3EEz7VT0zZpQ"
      },
      "execution_count": 17,
      "outputs": []
    },
    {
      "cell_type": "code",
      "source": [
        "# Obtain JSON files from PDFs\n",
        "!python obtain_json.py ./docs"
      ],
      "metadata": {
        "colab": {
          "base_uri": "https://localhost:8080/"
        },
        "id": "krOiL0b2zRP2",
        "outputId": "18ad1a4c-76b4-466f-abab-88e9536797f8"
      },
      "execution_count": 18,
      "outputs": [
        {
          "output_type": "stream",
          "name": "stdout",
          "text": [
            "Processed AAPL.pdf and saved the result as AAPL.json\n",
            "Processed CA Infrastructure Fin.pdf and saved the result as CA Infrastructure Fin.json\n"
          ]
        }
      ]
    },
    {
      "cell_type": "code",
      "source": [
        "# Process JSON files\n",
        "!python processing_json.py ./docs"
      ],
      "metadata": {
        "colab": {
          "base_uri": "https://localhost:8080/"
        },
        "id": "uXpa5syPs9Yw",
        "outputId": "728b9e1c-0746-4dd9-8463-2d5edd4c4b22"
      },
      "execution_count": 19,
      "outputs": [
        {
          "output_type": "stream",
          "name": "stdout",
          "text": [
            "./docs/AAPL.pdf\n",
            "done!\n",
            "./docs/CA Infrastructure Fin.pdf\n",
            "done!\n"
          ]
        }
      ]
    },
    {
      "cell_type": "markdown",
      "source": [
        "Convert a single PDF file, replacing file_name with the base name of your PDF file (without the extension)\n",
        "\n",
        "Using 0 and 1 as the start_page and end_page arguments would convert only the first page.\n",
        "\n",
        "Using 0 and 2 would convert the first and second pages.\n",
        "\n",
        "By default, the conversion starts from the first page (start_page = 0) and continues until the last page.\n"
      ],
      "metadata": {
        "id": "xz9hJV3w2Sb0"
      }
    },
    {
      "cell_type": "code",
      "source": [
        "import json\n",
        "\n",
        "# Function to extract end page number from JSON\n",
        "def extract_end_page_number(json_path):\n",
        "    with open(json_path, \"r\") as file:\n",
        "        data = json.load(file)\n",
        "    end_page_number = max(page[\"page_number\"] for page in data[\"pages\"])\n",
        "    return end_page_number\n",
        "\n",
        "# Specify the base name of your PDF file (without the extension)\n",
        "file_name = 'AAPL'\n",
        "\n",
        "# Set the paths for the PDF, DOCX, and JSON files\n",
        "pdf_path = f'./docs/{file_name}.pdf'\n",
        "out_path = f'./docs/{file_name}.docx'\n",
        "json_path = f'./docs/updated_{file_name}.json'\n",
        "\n",
        "# Specify the start and end pages for conversion\n",
        "start_page = 0\n",
        "end_page = extract_end_page_number(json_path)  # Change to '2' to convert the first and second pages\n",
        "\n",
        "# Call the conversion script with the specified parameters\n",
        "!python convert_main.py \"{pdf_path}\" \"{out_path}\" \"{json_path}\" {start_page} {end_page} > /dev/null\n"
      ],
      "metadata": {
        "colab": {
          "base_uri": "https://localhost:8080/"
        },
        "id": "wIvI3Ozh0ziS",
        "outputId": "85c23a87-ea9e-4708-8906-def57dc7fcf5"
      },
      "execution_count": 30,
      "outputs": [
        {
          "output_type": "stream",
          "name": "stdout",
          "text": [
            "[INFO] Start to convert ./docs/AAPL.pdf\n",
            "[INFO] \u001b[1;36m[1/4] Opening document...\u001b[0m\n",
            "[INFO] \u001b[1;36m[2/4] Analyzing document...\u001b[0m\n",
            "[INFO] \u001b[1;36m[3/4] Parsing pages...\u001b[0m\n",
            "[INFO] (1/5) Page 1\n",
            "[INFO] (2/5) Page 2\n",
            "[INFO] (3/5) Page 3\n",
            "[INFO] (4/5) Page 4\n",
            "[INFO] (5/5) Page 5\n",
            "[INFO] \u001b[1;36m[4/4] Creating pages...\u001b[0m\n",
            "[INFO] Terminated in 7.07s.\n"
          ]
        }
      ]
    },
    {
      "cell_type": "markdown",
      "source": [
        "(Potential Errors) Convert all PDF files in the docs folder\n",
        "\n",
        "If encountering errors during bulk conversion, revert to converting single PDFs and utilize start and end page parameters."
      ],
      "metadata": {
        "id": "GGQgf6jp2NfZ"
      }
    },
    {
      "cell_type": "code",
      "source": [
        "import os\n",
        "import json\n",
        "\n",
        "# Define the path to the docs folder\n",
        "docs_folder = \"./docs\"\n",
        "\n",
        "# Function to get PDF and JSON file pairs in the specified directory\n",
        "def get_file_pairs(directory):\n",
        "    file_pairs = []\n",
        "    for file_name in os.listdir(directory):\n",
        "        if file_name.endswith(\".pdf\"):\n",
        "            pdf_path = os.path.join(directory, file_name)\n",
        "            json_name = f\"updated_{os.path.splitext(file_name)[0]}.json\"\n",
        "            json_path = os.path.join(directory, json_name)\n",
        "            if os.path.exists(json_path):  # Check if corresponding JSON file exists\n",
        "                file_pairs.append((pdf_path, json_path))\n",
        "    return file_pairs\n",
        "\n",
        "# Function to extract end page number from JSON\n",
        "def extract_end_page_number(json_path):\n",
        "    with open(json_path, \"r\") as file:\n",
        "        data = json.load(file)\n",
        "    end_page_number = max(page[\"page_number\"] for page in data[\"pages\"])\n",
        "    return end_page_number\n",
        "\n",
        "# Get PDF and JSON file pairs in the docs folder\n",
        "file_pairs = get_file_pairs(docs_folder)\n",
        "\n",
        "# Iterate over the file pairs and perform conversion\n",
        "for pdf_path, json_path in file_pairs:\n",
        "    base_name = os.path.splitext(os.path.basename(pdf_path))[0]\n",
        "    out_path = os.path.join(docs_folder, f\"{base_name}.docx\")\n",
        "\n",
        "    # Extract the end page number\n",
        "    end_page = extract_end_page_number(json_path)\n",
        "\n",
        "    # Set the start page to 0 (assuming it always starts from the first page)\n",
        "    start_page = 0\n",
        "\n",
        "    # Run the conversion script with the specified parameters\n",
        "    !python convert_main.py \"{pdf_path}\" \"{out_path}\" \"{json_path}\" {start_page} {end_page} > /dev/null"
      ],
      "metadata": {
        "id": "i4q1dEQv1iUX"
      },
      "execution_count": null,
      "outputs": []
    }
  ]
}
